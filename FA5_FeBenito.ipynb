{
 "cells": [
  {
   "cell_type": "code",
   "execution_count": 4,
   "id": "26fae008-9ff5-4199-b3b9-e606a1d65b8d",
   "metadata": {},
   "outputs": [],
   "source": [
    "from swampy.TurtleWorld import *\n",
    "from random import *\n",
    "import math\n",
    "\n",
    "def MoveTo(t, x, y):\n",
    "    t.x = x\n",
    "    t.y = y\n",
    "    \n",
    "def DrawFence(r):\n",
    "    t = Turtle()\n",
    "    t.delay = .001\n",
    "    set_pen_color(t, 'blue')\n",
    "    MoveTo(t, 0, -r)\n",
    "    for i in range(360):\n",
    "        fd(t, 2 * math.pi * r / 360)\n",
    "        lt(t, 1)\n",
    "    die(t)\n",
    "\n",
    "def distance(x1, y1, x2, y2):\n",
    "    return math.sqrt((x2 - x1)**2 + (y2 - y1)**2)\n",
    "\n",
    "def Bounce_off_fence(t, r):\n",
    "    dist_center = distance(0, 0, t.x, t.y)\n",
    "    if dist_center > r:\n",
    "        angle = math.atan2(t.y, t.x) * 180 / math.pi\n",
    "        t.heading = angle + 180\n",
    "\n",
    "world = TurtleWorld()\n",
    "fenceSize = 200\n",
    "DrawFence(fenceSize / 2)\n",
    "bob = Turtle()\n",
    "set_color(bob, 'red')\n",
    "bob.delay = 0.1\n",
    "pu(bob)\n",
    "for i in range(1000):\n",
    "    Bounce_off_fence(bob, fenceSize / 2)\n",
    "    fd(bob, 3)\n",
    "    angle = random() * 90 - 45\n",
    "    rt(bob, angle)\n",
    "wait_for_user()\n"
   ]
  }
 ],
 "metadata": {
  "kernelspec": {
   "display_name": "Python 3 (ipykernel)",
   "language": "python",
   "name": "python3"
  },
  "language_info": {
   "codemirror_mode": {
    "name": "ipython",
    "version": 3
   },
   "file_extension": ".py",
   "mimetype": "text/x-python",
   "name": "python",
   "nbconvert_exporter": "python",
   "pygments_lexer": "ipython3",
   "version": "3.12.1"
  }
 },
 "nbformat": 4,
 "nbformat_minor": 5
}
