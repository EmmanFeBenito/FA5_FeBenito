{
 "cells": [
  {
   "cell_type": "code",
   "execution_count": 18,
   "id": "26fae008-9ff5-4199-b3b9-e606a1d65b8d",
   "metadata": {},
   "outputs": [
    {
     "ename": "Terminator",
     "evalue": "",
     "output_type": "error",
     "traceback": [
      "\u001b[1;31m---------------------------------------------------------------------------\u001b[0m",
      "\u001b[1;31mTerminator\u001b[0m                                Traceback (most recent call last)",
      "Cell \u001b[1;32mIn[18], line 38\u001b[0m\n\u001b[0;32m     35\u001b[0m radius \u001b[38;5;241m=\u001b[39m \u001b[38;5;241m100\u001b[39m\n\u001b[0;32m     36\u001b[0m nbrebonds \u001b[38;5;241m=\u001b[39m \u001b[38;5;241m10\u001b[39m\n\u001b[1;32m---> 38\u001b[0m \u001b[43mdraw_fence\u001b[49m\u001b[43m(\u001b[49m\u001b[43mradius\u001b[49m\u001b[43m,\u001b[49m\u001b[43m \u001b[49m\u001b[43mnbrebonds\u001b[49m\u001b[43m)\u001b[49m\n\u001b[0;32m     40\u001b[0m mainloop()\n",
      "Cell \u001b[1;32mIn[18], line 23\u001b[0m, in \u001b[0;36mdraw_fence\u001b[1;34m(radius, nbrebonds)\u001b[0m\n\u001b[0;32m     20\u001b[0m \u001b[38;5;28;01mwhile\u001b[39;00m nbrebonds \u001b[38;5;241m>\u001b[39m\u001b[38;5;241m=\u001b[39m \u001b[38;5;241m0\u001b[39m:\n\u001b[0;32m     21\u001b[0m     forward(\u001b[38;5;241m1\u001b[39m)\n\u001b[1;32m---> 23\u001b[0m     \u001b[38;5;28;01mif\u001b[39;00m \u001b[43mdistance\u001b[49m\u001b[43m(\u001b[49m\u001b[38;5;241;43m0\u001b[39;49m\u001b[43m,\u001b[49m\u001b[43m \u001b[49m\u001b[38;5;241;43m0\u001b[39;49m\u001b[43m)\u001b[49m \u001b[38;5;241m>\u001b[39m radius:\n\u001b[0;32m     25\u001b[0m         incoming \u001b[38;5;241m=\u001b[39m heading()\n\u001b[0;32m     26\u001b[0m         normal \u001b[38;5;241m=\u001b[39m towards(\u001b[38;5;241m0\u001b[39m, \u001b[38;5;241m0\u001b[39m)\n",
      "File \u001b[1;32m<string>:5\u001b[0m, in \u001b[0;36mdistance\u001b[1;34m(x, y)\u001b[0m\n",
      "\u001b[1;31mTerminator\u001b[0m: "
     ]
    }
   ],
   "source": [
    "from random import randint\n",
    "from turtle import *\n",
    "\n",
    "def draw_fence(radius, nbrebonds):\n",
    "    \n",
    "    shape(\"turtle\")\n",
    "    \n",
    "    penup()\n",
    "    sety(-radius)\n",
    "    down()\n",
    "    circle(radius)\n",
    "\n",
    "    penup()\n",
    "    home()\n",
    "    setx(randint(radius//4, radius//2))\n",
    "    sety(randint(radius//4, radius//2))\n",
    "    setheading(randint(0, 360))\n",
    "    pendown()\n",
    "\n",
    "    while nbrebonds >= 0:\n",
    "        forward(1)\n",
    "\n",
    "        if distance(0, 0) > radius:\n",
    "\n",
    "            incoming = heading()\n",
    "            normal = towards(0, 0)\n",
    "            outgoing = 2 * normal - 180 - incoming\n",
    "\n",
    "            setheading(outgoing)\n",
    "\n",
    "            forward(1)\n",
    "\n",
    "            nbrebonds -= 1\n",
    "\n",
    "radius = 100\n",
    "nbrebonds = 10\n",
    "\n",
    "draw_fence(radius, nbrebonds)\n",
    "\n",
    "mainloop()\n"
   ]
  },
  {
   "cell_type": "code",
   "execution_count": null,
   "id": "cb997d51-80e5-4f7f-b3ef-f94372f2eda3",
   "metadata": {},
   "outputs": [],
   "source": []
  },
  {
   "cell_type": "code",
   "execution_count": null,
   "id": "3aa4947c-4e08-409b-bb4f-0fb21f9d3cb4",
   "metadata": {},
   "outputs": [],
   "source": []
  }
 ],
 "metadata": {
  "kernelspec": {
   "display_name": "Python 3 (ipykernel)",
   "language": "python",
   "name": "python3"
  },
  "language_info": {
   "codemirror_mode": {
    "name": "ipython",
    "version": 3
   },
   "file_extension": ".py",
   "mimetype": "text/x-python",
   "name": "python",
   "nbconvert_exporter": "python",
   "pygments_lexer": "ipython3",
   "version": "3.12.1"
  }
 },
 "nbformat": 4,
 "nbformat_minor": 5
}
